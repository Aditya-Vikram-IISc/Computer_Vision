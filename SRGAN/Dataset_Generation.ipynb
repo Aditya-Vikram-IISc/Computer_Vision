{
  "nbformat": 4,
  "nbformat_minor": 0,
  "metadata": {
    "colab": {
      "name": "Dataset_Generation.ipynb",
      "provenance": [],
      "collapsed_sections": []
    },
    "kernelspec": {
      "name": "python3",
      "display_name": "Python 3"
    },
    "language_info": {
      "name": "python"
    },
    "accelerator": "GPU"
  },
  "cells": [
    {
      "cell_type": "code",
      "metadata": {
        "id": "l48tc5Fk2JwN"
      },
      "source": [
        "import os\n",
        "import random\n",
        "import PIL\n",
        "from easydict import EasyDict\n",
        "import torchvision.transforms as transforms\n",
        "from torchvision.transforms import InterpolationMode"
      ],
      "execution_count": 2,
      "outputs": []
    },
    {
      "cell_type": "code",
      "metadata": {
        "id": "Lo8lUqLKtont"
      },
      "source": [
        "#Note: \n",
        "#    path2data: Add all the data to this directory\n",
        "#    hr_path: Output HR images\n",
        "#    lr_path: Output LR images\n",
        "\n",
        "config = {\n",
        "        \"upscale\": 4,\n",
        "        \"path2data\": \"/content/hr_image\",\n",
        "        \"hr_path\": \"HR_dataset/\",\n",
        "        \"lr_path\": \"LR_dataset/\",\n",
        "        }\n",
        "\n",
        "args = EasyDict(config)"
      ],
      "execution_count": 5,
      "outputs": []
    },
    {
      "cell_type": "code",
      "metadata": {
        "id": "VKZrA6V5rtrP"
      },
      "source": [
        "if not os.path.isdir(args.hr_path):\n",
        "    os.mkdir(args.hr_path)\n",
        "\n",
        "if not os.path.isdir(args.lr_path):\n",
        "    os.mkdir(args.lr_path)"
      ],
      "execution_count": 6,
      "outputs": []
    },
    {
      "cell_type": "code",
      "metadata": {
        "id": "L2iMTKYzJvsu"
      },
      "source": [
        "ALL_INTERPOLATIONS = [\n",
        "        InterpolationMode.NEAREST,\n",
        "        InterpolationMode.BILINEAR,\n",
        "        InterpolationMode.BICUBIC,\n",
        "        InterpolationMode.BOX,\n",
        "        InterpolationMode.HAMMING,\n",
        "        InterpolationMode.LANCZOS\n",
        "                ]\n",
        "\n",
        "IMG_EXTENSIONS = [\".jpg\", \".png\", \".jpeg\", \".JPG\", \".PNG\", \".JPEG\"]"
      ],
      "execution_count": 7,
      "outputs": []
    },
    {
      "cell_type": "code",
      "metadata": {
        "id": "gSX3lBAcJvun"
      },
      "source": [
        "def check_image(filename):\n",
        "    return any(filename.endswith(ext) for ext in IMG_EXTENSIONS)\n",
        "\n",
        "def get_dimensions(img, upscale):\n",
        "    '''\n",
        "    input : PIL Image\n",
        "    output: image with HR size multiple of the Upscale Factor needed\n",
        "    '''\n",
        "\n",
        "    w,h = img.size\n",
        "\n",
        "    W = int(w - (w%upscale))\n",
        "    H = int(h - (h%upscale))\n",
        "\n",
        "    return W,H"
      ],
      "execution_count": 11,
      "outputs": []
    },
    {
      "cell_type": "code",
      "metadata": {
        "id": "1MarUa3cJv0A",
        "colab": {
          "base_uri": "https://localhost:8080/"
        },
        "outputId": "bd2a8a3e-fda4-4814-8a44-ae8074d83b9a"
      },
      "source": [
        "all_images = sorted([os.path.join(args.path2data,name) for name in os.listdir(args.path2data) if check_image(name)])\n",
        "\n",
        "for names in all_images:\n",
        "    img = PIL.Image.open(names).convert(\"RGB\")\n",
        "    W,H = get_dimensions(img, args.upscale)                                           #Dimension now is a multiple of UPSCALE_FACTOR\n",
        "    l = len(ALL_INTERPOLATIONS)\n",
        "    img_name = os.path.splitext(names.split(\"/\")[-1])[0]                #Extracting the name\n",
        "\n",
        "    lr_transformation = transforms.Compose([\n",
        "                            transforms.Resize((H//(2*args.upscale), W//((2*args.upscale))), interpolation= ALL_INTERPOLATIONS[random.randint(0, (l-1))]),\n",
        "                            transforms.Resize((H//args.upscale, W//args.upscale), interpolation= ALL_INTERPOLATIONS[random.randint(0, (l-1))]),   #Torch follows (H,W) format\n",
        "                                        ])\n",
        "\n",
        "    hr_transformation = transforms.Compose([\n",
        "                            transforms.CenterCrop((H,W))   \n",
        "                                            ])\n",
        "    \n",
        "    hr_img = hr_transformation(img)\n",
        "    lr_img = lr_transformation(hr_img)\n",
        "\n",
        "    #Saving the images\n",
        "    hr_img.save(args.hr_path + img_name + \".png\", format= 'png')\n",
        "    lr_img.save(args.lr_path + img_name + \".png\", format= 'png')\n",
        "\n",
        "print(\"Task Completed Succesfully!\")"
      ],
      "execution_count": 12,
      "outputs": [
        {
          "output_type": "stream",
          "text": [
            "Task Completed Succesfully!\n"
          ],
          "name": "stdout"
        }
      ]
    },
    {
      "cell_type": "code",
      "metadata": {
        "id": "aJobgQbpd3n5"
      },
      "source": [
        ""
      ],
      "execution_count": null,
      "outputs": []
    }
  ]
}